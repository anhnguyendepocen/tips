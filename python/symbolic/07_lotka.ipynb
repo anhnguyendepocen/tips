{
 "cells": [
  {
   "cell_type": "markdown",
   "metadata": {},
   "source": [
    "# 15.7. Analyzing a nonlinear differential system — Lotka-Volterra (predator-prey) equations"
   ]
  },
  {
   "cell_type": "code",
   "execution_count": 1,
   "metadata": {
    "podoc": {
     "output_text": "(a, b, c, d)"
    }
   },
   "outputs": [
    {
     "data": {
      "image/png": "[encoded data removed]",
      "text/latex": [
       "$\\displaystyle \\left( a, \\  b, \\  c, \\  d\\right)$"
      ],
      "text/plain": [
       "(a, b, c, d)"
      ]
     },
     "execution_count": 1,
     "metadata": {},
     "output_type": "execute_result"
    }
   ],
   "source": [
    "from sympy import *\n",
    "init_printing(pretty_print=True)\n",
    "\n",
    "var('x y')\n",
    "var('a b c d', positive=True)"
   ]
  },
  {
   "cell_type": "code",
   "execution_count": 2,
   "metadata": {},
   "outputs": [],
   "source": [
    "f = x * (a - b * y)\n",
    "g = -y * (c - d * x)"
   ]
  },
  {
   "cell_type": "code",
   "execution_count": 3,
   "metadata": {
    "podoc": {
     "output_text": "Output"
    }
   },
   "outputs": [
    {
     "data": {
      "image/png": "[encoded data removed]",
      "text/latex": [
       "$\\displaystyle \\left[ \\left( 0, \\  0\\right), \\  \\left( \\frac{c}{d}, \\  \\frac{a}{b}\\right)\\right]$"
      ],
      "text/plain": [
       "⎡        ⎛c  a⎞⎤\n",
       "⎢(0, 0), ⎜─, ─⎟⎥\n",
       "⎣        ⎝d  b⎠⎦"
      ]
     },
     "execution_count": 3,
     "metadata": {},
     "output_type": "execute_result"
    }
   ],
   "source": [
    "solve([f, g], (x, y))"
   ]
  },
  {
   "cell_type": "code",
   "execution_count": 4,
   "metadata": {},
   "outputs": [],
   "source": [
    "(x0, y0), (x1, y1) = _"
   ]
  },
  {
   "cell_type": "code",
   "execution_count": 5,
   "metadata": {
    "podoc": {
     "output_text": "Output"
    }
   },
   "outputs": [
    {
     "data": {
      "image/png": "[encoded data removed]",
      "text/latex": [
       "$\\displaystyle \\left[\\begin{matrix}x \\left(a - b y\\right)\\\\- y \\left(c - d x\\right)\\end{matrix}\\right]$"
      ],
      "text/plain": [
       "⎡x⋅(a - b⋅y) ⎤\n",
       "⎢            ⎥\n",
       "⎣-y⋅(c - d⋅x)⎦"
      ]
     },
     "execution_count": 5,
     "metadata": {},
     "output_type": "execute_result"
    }
   ],
   "source": [
    "M = Matrix((f, g))\n",
    "M"
   ]
  },
  {
   "cell_type": "code",
   "execution_count": 6,
   "metadata": {
    "podoc": {
     "output_text": "Output"
    }
   },
   "outputs": [
    {
     "data": {
      "image/png": "[encoded data removed]",
      "text/latex": [
       "$\\displaystyle \\left[\\begin{matrix}a - b y & - b x\\\\d y & - c + d x\\end{matrix}\\right]$"
      ],
      "text/plain": [
       "⎡a - b⋅y    -b⋅x  ⎤\n",
       "⎢                 ⎥\n",
       "⎣  d⋅y    -c + d⋅x⎦"
      ]
     },
     "execution_count": 6,
     "metadata": {},
     "output_type": "execute_result"
    }
   ],
   "source": [
    "J = M.jacobian((x, y))\n",
    "J"
   ]
  },
  {
   "cell_type": "code",
   "execution_count": 7,
   "metadata": {
    "podoc": {
     "output_text": "Output"
    }
   },
   "outputs": [
    {
     "data": {
      "image/png": "[encoded data removed]",
      "text/latex": [
       "$\\displaystyle \\left[\\begin{matrix}a & 0\\\\0 & - c\\end{matrix}\\right]$"
      ],
      "text/plain": [
       "⎡a  0 ⎤\n",
       "⎢     ⎥\n",
       "⎣0  -c⎦"
      ]
     },
     "execution_count": 7,
     "metadata": {},
     "output_type": "execute_result"
    }
   ],
   "source": [
    "M0 = J.subs(x, x0).subs(y, y0)\n",
    "M0"
   ]
  },
  {
   "cell_type": "code",
   "execution_count": 8,
   "metadata": {
    "podoc": {
     "output_text": "{a: 1, -c: 1}"
    }
   },
   "outputs": [
    {
     "data": {
      "image/png": "[encoded data removed]",
      "text/latex": [
       "$\\displaystyle \\left\\{ a : 1, \\  - c : 1\\right\\}$"
      ],
      "text/plain": [
       "{a: 1, -c: 1}"
      ]
     },
     "execution_count": 8,
     "metadata": {},
     "output_type": "execute_result"
    }
   ],
   "source": [
    "M0.eigenvals()"
   ]
  },
  {
   "cell_type": "code",
   "execution_count": 9,
   "metadata": {
    "podoc": {
     "output_text": "Output"
    }
   },
   "outputs": [
    {
     "data": {
      "image/png": "[encoded data removed]",
      "text/latex": [
       "$\\displaystyle \\left[\\begin{matrix}0 & - \\frac{b c}{d}\\\\\\frac{a d}{b} & 0\\end{matrix}\\right]$"
      ],
      "text/plain": [
       "⎡     -b⋅c ⎤\n",
       "⎢ 0   ─────⎥\n",
       "⎢       d  ⎥\n",
       "⎢          ⎥\n",
       "⎢a⋅d       ⎥\n",
       "⎢───    0  ⎥\n",
       "⎣ b        ⎦"
      ]
     },
     "execution_count": 9,
     "metadata": {},
     "output_type": "execute_result"
    }
   ],
   "source": [
    "M1 = J.subs(x, x1).subs(y, y1)\n",
    "M1"
   ]
  },
  {
   "cell_type": "code",
   "execution_count": 10,
   "metadata": {
    "podoc": {
     "output_text": "Eigenvalues"
    }
   },
   "outputs": [
    {
     "data": {
      "image/png": "[encoded data removed]",
      "text/latex": [
       "$\\displaystyle \\left\\{ - i \\sqrt{a} \\sqrt{c} : 1, \\  i \\sqrt{a} \\sqrt{c} : 1\\right\\}$"
      ],
      "text/plain": [
       "{-ⅈ⋅√a⋅√c: 1, ⅈ⋅√a⋅√c: 1}"
      ]
     },
     "execution_count": 10,
     "metadata": {},
     "output_type": "execute_result"
    }
   ],
   "source": [
    "M1.eigenvals()"
   ]
  }
 ],
 "metadata": {
  "kernelspec": {
   "display_name": "Python 3",
   "language": "python",
   "name": "python3"
  },
  "language_info": {
   "codemirror_mode": {
    "name": "ipython",
    "version": 3
   },
   "file_extension": ".py",
   "mimetype": "text/x-python",
   "name": "python",
   "nbconvert_exporter": "python",
   "pygments_lexer": "ipython3",
   "version": "3.7.3"
  },
  "toc": {
   "base_numbering": 1,
   "nav_menu": {},
   "number_sections": false,
   "sideBar": false,
   "skip_h1_title": false,
   "title_cell": "Table of Contents",
   "title_sidebar": "Contents",
   "toc_cell": false,
   "toc_position": {},
   "toc_section_display": false,
   "toc_window_display": false
  }
 },
 "nbformat": 4,
 "nbformat_minor": 2
}
