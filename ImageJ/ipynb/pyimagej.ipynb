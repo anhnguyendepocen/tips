{
 "cells": [
  {
   "cell_type": "code",
   "execution_count": null,
   "metadata": {},
   "outputs": [],
   "source": [
    "# The specified fiji install does not seem to ship with rigid registration plugin.  I directed it to my local install.  Just replace the path with the one to your own.\n",
    "import imagej\n",
    "#ij = imagej.init('sc.fiji:fiji')\n",
    "\n",
    "# Rigid Registration does not have a headless version.  You need to specify that ImageJ will NOT be operating in headless mode.\n",
    "ij = imagej.init('/Applications/Fiji.app', headless=False)"
   ]
  },
  {
   "cell_type": "code",
   "execution_count": null,
   "metadata": {},
   "outputs": [],
   "source": [
    "from skimage import io\n",
    "import numpy as np"
   ]
  },
  {
   "cell_type": "code",
   "execution_count": null,
   "metadata": {},
   "outputs": [],
   "source": [
    "import os\n",
    "cwd = os.getcwd()"
   ]
  },
  {
   "cell_type": "code",
   "execution_count": null,
   "metadata": {},
   "outputs": [],
   "source": [
    "from jnius import autoclass\n",
    "WindowManager = autoclass('ij.WindowManager')"
   ]
  },
  {
   "cell_type": "code",
   "execution_count": null,
   "metadata": {},
   "outputs": [],
   "source": [
    "Img1 = io.imread('https://acdbio.com/sites/default/files/styles/sample_image/public/M-IL-8-8-hr_0.jpg')\n",
    "Img2 = io.imread('https://acdbio.com/sites/default/files/styles/sample_image/public/M-IL-8-8-hr_0.jpg')"
   ]
  },
  {
   "cell_type": "code",
   "execution_count": null,
   "metadata": {},
   "outputs": [],
   "source": [
    "img_1 = np.mean(Img1,axis=2)\n",
    "img_2 = np.mean(Img2,axis=2)"
   ]
  },
  {
   "cell_type": "code",
   "execution_count": null,
   "metadata": {},
   "outputs": [],
   "source": [
    "imshape = np.shape(img_1)"
   ]
  },
  {
   "cell_type": "code",
   "execution_count": null,
   "metadata": {},
   "outputs": [],
   "source": [
    "# Since both images are the same, lets make image1 a translated version of itself.  This will let us see if the plugin worked.\n",
    "translated_img = np.zeros(imshape)\n",
    "translated_img[40:, 40:] = img_1[0:(imshape[0]-40), 0:(imshape[1]-40)]"
   ]
  },
  {
   "cell_type": "code",
   "execution_count": null,
   "metadata": {},
   "outputs": [],
   "source": [
    "ij.py.show(translated_img)"
   ]
  },
  {
   "cell_type": "code",
   "execution_count": null,
   "metadata": {},
   "outputs": [],
   "source": [
    "im1_name = 'img1.tif'\n",
    "im2_name = 'img2.tif'\n",
    "im1_path = os.path.join(cwd, 'img1.tif').replace('\\\\', '/')\n",
    "im2_path = os.path.join(cwd, 'img2.tif').replace('\\\\', '/')"
   ]
  },
  {
   "cell_type": "code",
   "execution_count": null,
   "metadata": {},
   "outputs": [],
   "source": [
    "# Save the images to the file system\n",
    "io.imsave(arr=translated_img.astype(np.int8), fname=im1_name)\n",
    "io.imsave(arr=img_2.astype(np.int8), fname=im2_name)"
   ]
  },
  {
   "cell_type": "code",
   "execution_count": null,
   "metadata": {},
   "outputs": [],
   "source": [
    "# It is important to open the image being registered / the moving image (i.e., image 2) second, as the Rigid Registration plugin works on the current active window.  You could probably select it too, if you want to be doing multiple operations.\n",
    "ij.py.run_macro(\"\"\"open(\"{}\")\"\"\".format(im1_path))\n",
    "ij.py.run_macro(\"\"\"open(\"{}\")\"\"\".format(im2_path))"
   ]
  },
  {
   "cell_type": "code",
   "execution_count": null,
   "metadata": {},
   "outputs": [],
   "source": [
    "# I wasn't able to get the plugin format working - the registration will output the transform, but it will not output a transformed image.  This is likely due to a name formatting issue for the last variable. \n",
    "plugin = 'Rigid Registration'\n",
    "\n",
    "args = { \n",
    "    'initialtransform': [],\n",
    "    'n': 1,\n",
    "    'tolerance': 1.000,\n",
    "    'level': 4,\n",
    "    'stoplevel': 2,\n",
    "    'materialcenterandbbox': [],\n",
    "    'showtransformed': 1,\n",
    "    'template': im1_name,\n",
    "    'measure': 'Correlation',\n",
    "    'im2_name': True\n",
    "}"
   ]
  },
  {
   "cell_type": "code",
   "execution_count": null,
   "metadata": {},
   "outputs": [],
   "source": [
    "# You can get around this by directly making the macro string.  The following command demonstrates how to do it dynamically, as it uses .format() to target the two image names.  You can also do that for any of the parameters, as a stop gap till we figure out why the plugin-centric method isn't working.\n",
    "\n",
    "macro = \"\"\"run(\"Rigid Registration\", \"initialtransform=[] n=1 tolerance=1.000 level=6 stoplevel=2 materialcenterandbbox=[] template={} measure=Euclidean {}\")\"\"\".format(im1_name, im2_name)"
   ]
  },
  {
   "cell_type": "code",
   "execution_count": null,
   "metadata": {},
   "outputs": [],
   "source": [
    "# Just showing that prior to the macro, the current window is that of image2\n",
    "window_of_img2 = WindowManager.getCurrentImage()\n",
    "ij.py.show(window_of_img2)"
   ]
  },
  {
   "cell_type": "code",
   "execution_count": null,
   "metadata": {
    "scrolled": true
   },
   "outputs": [],
   "source": [
    "#ij.py.run_plugin(plugin, args)"
   ]
  },
  {
   "cell_type": "code",
   "execution_count": null,
   "metadata": {},
   "outputs": [],
   "source": [
    "ij.py.run_macro(macro)"
   ]
  },
  {
   "cell_type": "code",
   "execution_count": null,
   "metadata": {
    "scrolled": true
   },
   "outputs": [],
   "source": [
    "# We see now that the current window is the transformed one\n",
    "result = WindowManager.getCurrentImage()\n",
    "ij.py.show(result)"
   ]
  },
  {
   "cell_type": "code",
   "execution_count": null,
   "metadata": {},
   "outputs": [],
   "source": [
    "# Get the numpy array out of the image.  You must do this before closing the windows.\n",
    "result_array = ij.py.from_java(result)\n",
    "result_array"
   ]
  },
  {
   "cell_type": "code",
   "execution_count": null,
   "metadata": {},
   "outputs": [],
   "source": [
    "# Close the windows in Fiji.\n",
    "WindowManager.closeAllWindows()"
   ]
  },
  {
   "cell_type": "code",
   "execution_count": null,
   "metadata": {},
   "outputs": [],
   "source": [
    "# Delete the intermediate files on your file system.\n",
    "os.remove(im1_path)\n",
    "os.remove(im2_path)"
   ]
  },
  {
   "cell_type": "code",
   "execution_count": null,
   "metadata": {},
   "outputs": [],
   "source": []
  }
 ],
 "metadata": {
  "kernelspec": {
   "display_name": "Python 3",
   "language": "python",
   "name": "python3"
  },
  "language_info": {
   "codemirror_mode": {
    "name": "ipython",
    "version": 3
   },
   "file_extension": ".py",
   "mimetype": "text/x-python",
   "name": "python",
   "nbconvert_exporter": "python",
   "pygments_lexer": "ipython3",
   "version": "3.7.3"
  },
  "toc": {
   "base_numbering": 1,
   "nav_menu": {},
   "number_sections": false,
   "sideBar": false,
   "skip_h1_title": false,
   "title_cell": "Table of Contents",
   "title_sidebar": "Contents",
   "toc_cell": false,
   "toc_position": {},
   "toc_section_display": false,
   "toc_window_display": false
  }
 },
 "nbformat": 4,
 "nbformat_minor": 2
}
